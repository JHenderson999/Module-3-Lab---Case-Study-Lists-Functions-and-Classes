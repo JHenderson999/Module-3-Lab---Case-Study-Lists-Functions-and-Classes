{
 "cells": [
  {
   "cell_type": "markdown",
   "id": "aac62b66-93a0-438a-be99-33fcfe5f295f",
   "metadata": {},
   "source": [
    "# Author: Justin Henderson\n",
    "# Program Name: Car Specification List\n",
    "# Date last updated: 11/4/2024\n",
    "# Program Description: This program has the user input aspects of a particular vehicle. Then, the program displays the attributes which the user has input into the program, regarding the users specified vehicle."
   ]
  },
  {
   "cell_type": "code",
   "execution_count": 6,
   "id": "71b96df2-dbf1-47ac-826f-2491527276c7",
   "metadata": {},
   "outputs": [
    {
     "name": "stdin",
     "output_type": "stream",
     "text": [
      "Enter the type of vehicle: car\n",
      "Enter the year of the vehicle: 1800\n"
     ]
    },
    {
     "name": "stdout",
     "output_type": "stream",
     "text": [
      "Invalid input. Year must be between 1900 and 2025.\n"
     ]
    },
    {
     "name": "stdin",
     "output_type": "stream",
     "text": [
      "Enter the year of the vehicle: 2026\n"
     ]
    },
    {
     "name": "stdout",
     "output_type": "stream",
     "text": [
      "Invalid input. Year must be between 1900 and 2025.\n"
     ]
    },
    {
     "name": "stdin",
     "output_type": "stream",
     "text": [
      "Enter the year of the vehicle: 2024\n",
      "Enter the make of the vehicle: ford\n",
      "Enter the model of the vehicle: focus\n",
      "Enter the number of doors: 3\n"
     ]
    },
    {
     "name": "stdout",
     "output_type": "stream",
     "text": [
      "Invalid number of  doors. Please enter 2 or 4.\n"
     ]
    },
    {
     "name": "stdin",
     "output_type": "stream",
     "text": [
      "Enter the number of doors: 1\n"
     ]
    },
    {
     "name": "stdout",
     "output_type": "stream",
     "text": [
      "Invalid number of  doors. Please enter 2 or 4.\n"
     ]
    },
    {
     "name": "stdin",
     "output_type": "stream",
     "text": [
      "Enter the number of doors: 5\n"
     ]
    },
    {
     "name": "stdout",
     "output_type": "stream",
     "text": [
      "Invalid number of  doors. Please enter 2 or 4.\n"
     ]
    },
    {
     "name": "stdin",
     "output_type": "stream",
     "text": [
      "Enter the number of doors: -2\n"
     ]
    },
    {
     "name": "stdout",
     "output_type": "stream",
     "text": [
      "Invalid number of  doors. Please enter 2 or 4.\n"
     ]
    },
    {
     "name": "stdin",
     "output_type": "stream",
     "text": [
      "Enter the number of doors: 2\n",
      "Enter the style of roof: soft\n"
     ]
    },
    {
     "name": "stdout",
     "output_type": "stream",
     "text": [
      "Vehicle type: car\n",
      "Year: 2024\n",
      "Make: ford\n",
      "Model: focus\n",
      "Number of doors: 2\n",
      "Type of roof: soft\n"
     ]
    }
   ],
   "source": [
    "class Vehicle: #Defines the parent class \"Vehicle,\" containing attributes of user car inputs\n",
    "    def __init__(self, vehicle_type): #initializes the parent class for the user specified \"Vehicle type\"\n",
    "        self.vehicle_type = vehicle_type #\"self.\" calls upon the attribute vehicle_type, and sets it to user's inputted value\n",
    "class Automobile(Vehicle): #creates a subclass named \"Automobile\" that calls upon the attribute \"Vehicle\" found in the first class\n",
    "    def __init__(self, vehicle_type, year, make, model, doors, roof): #defines attributes contained inside parameters of \"Automobile\" class\n",
    "        super().__init__(vehicle_type) #inherits the vehicle type from the parent class; takes parent class value for vehicle type for the automobile\n",
    "        \n",
    "        self.year = year #defines the year of the vehicle based on user input value\n",
    "        self.make = make #defines the make of the vehicle based on user input value\n",
    "        self.model = model #defines the model of the vehicle based on user input value\n",
    "        self.doors = doors #defines the number of doors the vehicle has based on user input value\n",
    "        self.roof = roof #defines the type of roof the vehicle has based on user input value\n",
    "        \n",
    "    def print_values(self): #prints each attribute of the vehicles specifications\n",
    "        print(\"Vehicle type:\", self.vehicle_type)\n",
    "        print(\"Year:\", self.year)\n",
    "        print(\"Make:\", self.make)\n",
    "        print(\"Model:\", self.model)\n",
    "        print(\"Number of doors:\", self.doors)\n",
    "        print(\"Type of roof:\", self.roof)\n",
    "    \n",
    "    \n",
    "def main(): #defines the main logic of the program\n",
    "    vehicle = str(input(\"Enter the type of vehicle:\")) #user inputs a string of characters describing the type of vehicle\n",
    "    while True: #checks for input validation concerning the year of the vehicle\n",
    "        year = int(input(\"Enter the year of the vehicle:\"))\n",
    "        if year < 1900 or year > 2025: #sets numeric parameters for user input regarding year of the vehicle\n",
    "            print(\"Invalid input. Year must be between 1900 and 2025.\")\n",
    "        else:\n",
    "            break\n",
    "            \n",
    "    make = str(input(\"Enter the make of the vehicle:\")) #allows user string input for the particular make of a vehicle\n",
    "    model = str(input(\"Enter the model of the vehicle:\")) #allows user string input for the particular model of a vehicle\n",
    "    \n",
    "    while True: #input validation to ensure that number of doors entered is either 2 or 4\n",
    "        doors = int(input(\"Enter the number of doors:\"))\n",
    "        if doors == 2 or doors == 4: #validation check for the number of doors which the user has entered\n",
    "            break\n",
    "        else:\n",
    "            print(\"Invalid number of  doors. Please enter 2 or 4.\")\n",
    "            \n",
    "    roof = str(input(\"Enter the style of roof:\")) #allows user string input for the particular style of roof of the vehicle\n",
    "\n",
    "\n",
    "    car = Automobile(vehicle, year, make, model, doors, roof) #instantiates class \"Automobile\" and its attributes, creates object assigned to variable \"car\"\n",
    "\n",
    "    car.print_values() #displays the vehicle attributes\n",
    "\n",
    "\n",
    "if __name__ == \"__main__\": #If the functions name is \"main,\" calls the main function\n",
    "    main() #encompasses the function\n",
    "\n",
    "        "
   ]
  },
  {
   "cell_type": "code",
   "execution_count": null,
   "id": "6b8020b8-c4f6-4e9a-9240-d6d57bc15aba",
   "metadata": {},
   "outputs": [],
   "source": []
  }
 ],
 "metadata": {
  "kernelspec": {
   "display_name": "Python 3 (ipykernel)",
   "language": "python",
   "name": "python3"
  },
  "language_info": {
   "codemirror_mode": {
    "name": "ipython",
    "version": 3
   },
   "file_extension": ".py",
   "mimetype": "text/x-python",
   "name": "python",
   "nbconvert_exporter": "python",
   "pygments_lexer": "ipython3",
   "version": "3.12.7"
  }
 },
 "nbformat": 4,
 "nbformat_minor": 5
}
